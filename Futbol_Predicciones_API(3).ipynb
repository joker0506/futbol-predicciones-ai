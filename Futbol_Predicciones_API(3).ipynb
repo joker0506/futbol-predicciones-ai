
{
 "cells": [
  {
   "cell_type": "markdown",
   "metadata": {},
   "source": [
    "# ⚽ Tu sistema de predicciones de fútbol con API-FOOTBALL
",
    "
",
    "Este notebook consulta partidos en tiempo real, aplica lógica de predicción simple y muestra gráficos.
",
    "
",
    "🔑 Requiere tu API Key de RapidAPI para funcionar."
   ]
  },
  {
   "cell_type": "code",
   "execution_count": null,
   "metadata": {},
   "outputs": [],
   "source": [
    "# 👉 CONFIGURA TU API
",
    "api_key = "dbbac53420msh5544907998c0cebp113695jsn6c38dabf3bbe""
   ]
  },
  {
   "cell_type": "code",
   "execution_count": null,
   "metadata": {},
   "outputs": [],
   "source": [
    "# ⚙️ IMPORTAR LIBRERÍAS
",
    "import requests
",
    "import pandas as pd
",
    "import matplotlib.pyplot as plt"
   ]
  },
  {
   "cell_type": "code",
   "execution_count": null,
   "metadata": {},
   "outputs": [],
   "source": [
    "# 📅 OBTENER PARTIDOS DE HOY EN LA PREMIER LEAGUE (EJEMPLO)
",
    "url = "https://api-football-v1.p.rapidapi.com/v3/fixtures"
",
    "headers = {
",
    "    "X-RapidAPI-Key": api_key,
",
    "    "X-RapidAPI-Host": "api-football-v1.p.rapidapi.com"
",
    "}
",
    "params = {"league": 39, "season": 2023, "date": pd.Timestamp.today().strftime('%Y-%m-%d')}
",
    "response = requests.get(url, headers=headers, params=params)
",
    "fixtures = response.json()
",
    "partidos = fixtures['response']
",
    "df = pd.DataFrame([{
",
    "    'Local': p['teams']['home']['name'],
",
    "    'Visitante': p['teams']['away']['name'],
",
    "    'Fecha': p['fixture']['date'][:10],
",
    "    'Hora': p['fixture']['date'][11:16]
",
    "} for p in partidos])
",
    "df"
   ]
  },
  {
   "cell_type": "code",
   "execution_count": null,
   "metadata": {},
   "outputs": [],
   "source": [
    "# 📊 GRAFICAR FRECUENCIA DE EQUIPOS LOCALES (EJEMPLO)
",
    "df['Local'].value_counts().plot(kind='bar', title='Partidos por equipo local')
",
    "plt.ylabel('Cantidad')
",
    "plt.show()"
   ]
  },
  {
   "cell_type": "code",
   "execution_count": null,
   "metadata": {},
   "outputs": [],
   "source": [
    "# ⚽ SIMULAR PREDICCIÓN OVER/UNDER 2.5 GOLES (ALEATORIO)
",
    "import random
",
    "df['Predicción'] = df['Local'].apply(lambda x: random.choice(['Over 2.5', 'Under 2.5']))
",
    "df[['Local', 'Visitante', 'Predicción']]"
   ]
  }
 ],
 "metadata": {
  "colab": {
   "name": "Futbol_Predicciones_API.ipynb",
   "provenance": []
  },
  "kernelspec": {
   "display_name": "Python 3",
   "name": "python3"
  },
  "language_info": {
   "name": "python"
  }
 },
 "nbformat": 4,
 "nbformat_minor": 0
}
